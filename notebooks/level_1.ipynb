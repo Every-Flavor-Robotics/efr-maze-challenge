{
 "cells": [
  {
   "cell_type": "markdown",
   "id": "67b8584e",
   "metadata": {},
   "source": [
    "Level 1 Challenge"
   ]
  }
 ],
 "metadata": {
  "language_info": {
   "name": "python"
  }
 },
 "nbformat": 4,
 "nbformat_minor": 5
}
