{
  "cells": [
    {
      "cell_type": "markdown",
      "id": "67b8584e",
      "metadata": {
        "id": "67b8584e"
      },
      "source": [
        "\n",
        "# Level 2 Maze Challenge"
      ]
    },
    {
      "cell_type": "markdown",
      "metadata": {
        "id": "a0fa1619"
      },
      "source": [
        "## Maze Challenge Rules\n",
        "\n",
        "For Level 2, the maze is randomly generated every time! You need to create an algorithm that works for any maze. The mazes are always solvable, do not have loops, and have fixed starts and goals.\n",
        "\n",
        "Here are the rules for the maze challenge:\n",
        "\n",
        "1.  **Goal:** Navigate the robot from the starting point (🏁) to the goal (🏆) in each maze. The starting point will always be (0,0) and the goal will always be (19,19).\n",
        "2.  **Movement:** You can only move to adjacent cells (N, S, W, or E) if there is no wall between your current position and the desired cell.\n",
        "3. **Cherry:** There is a cherry (🍒) in the maze. Collecting the cherry is optional but will give you bonus points.\n",
        "4.  **Information:** Your `choose_move` method in the `MySolver` class only has access to the current robot's position, the cherry's position, and a dictionary of possible moves from your current location. You do not have a global view of the maze.\n",
        "5.  **Max Moves:** Your agent has a maximum of 2,000 moves to reach the end of the maze.\n",
        "6.  **Scoring:**\n",
        "    *   You start with a base score of **10,000 points**.\n",
        "    *   Points are then adjusted based on your performance:\n",
        "        *   **Penalty:** **-100 points** for each unit of Manhattan distance between your final position and the goal (ignoring walls).\n",
        "        *   **Penalty:** **-10 points** for each move made beyond the shortest possible path to the goal.\n",
        "        *   **Bonus:** **+500 points** if you collect the cherry.\n",
        "7.  **Explorer Scoring:** The explorer score encourages the robot to explore as much of the maze as possible while still being efficient in its movement. It is calculated as:\n",
        "    * **Bonus:** **+10 points** for each unique cell visited.\n",
        "    * **Penalty:** **-1 point** for each move made.\n",
        "8.  **Objective:** The goal is to maximize your score over many maze runs. This means finding the goal efficiently and collecting the cherry if it's on a path to the goal that doesn't significantly increase the number of moves.\n",
        "\n",
        "## Pointers for Solving\n",
        "\n",
        "Here are some pointers to help you improve your maze solver:\n",
        "\n",
        "*   **Explore Available Moves:** The `possible_moves` dictionary is crucial. It tells you which directions you can move from your current position.\n",
        "*   **Avoid Walls:** You cannot move through walls. The `possible_moves` dictionary will only contain valid moves. If you try to move into a wall, it'll count as a move, but your robot won't go anywhere!\n",
        "*   **Keep Track of Visited Cells:** The provided `self.visited` list is a good starting point. You can use this to implement algorithms that avoid infinite loops or prioritize exploring new paths.\n",
        "*   **Consider Algorithms:** Common maze-solving algorithms like Depth-First Search (DFS), Breadth-First Search (BFS), or even simple wall-following can be adapted to this problem. Remember you only have local information, so a standard implementation might need modification.\n",
        "*   **The Cherry:** Think about how you can integrate collecting the cherry into your strategy. Is it always worth going for? How can you determine if it's \"on the way\"?\n",
        "*   **Experiment and Iterate:** The `run_solver` function allows you to test your solver on a single maze, and `evaluate_solver` runs it on many mazes to get an average score. Use these tools to experiment with different strategies and see how they perform.\n",
        "*   **Local Information Only:** This is the key constraint. You cannot \"see\" the whole maze. Your decision must be based *only* on your current position, the cherry's position, and the available moves from your current position.\n",
        "\n",
        "Good luck!"
      ],
      "id": "a0fa1619"
    },
    {
      "cell_type": "markdown",
      "metadata": {
        "id": "4fe379c8"
      },
      "source": [
        "---\n",
        "\n",
        "**🚫 Do Not Modify the Setup Code Block 🚫**\n",
        "\n",
        "The code below is for setting up and running the maze challenge. You should not need to change it to implement your solver. -> go down to the next block where you see \"Your Solver Code Here\"\n",
        "\n",
        "---"
      ],
      "id": "4fe379c8"
    },
    {
      "cell_type": "code",
      "source": [
        "# Start from a clean state\n",
        "%cd /content\n",
        "!rm -rf efr-maze-challenge || true\n",
        "!git clone --depth 1 https://github.com/Every-Flavor-Robotics/efr-maze-challenge.git\n",
        "%cd efr-maze-challenge\n",
        "\n",
        "# Install requirements\n",
        "!pip install -r requirements.txt\n",
        "\n",
        "# Add repo to Python path and reload to avoid Colab caching\n",
        "import sys\n",
        "import importlib\n",
        "sys.path.insert(0, \"/content/efr-maze-challenge\")\n",
        "\n",
        "import maze_challenge\n",
        "importlib.reload(maze_challenge)\n",
        "\n",
        "from typing import Dict, List, Set, Tuple\n",
        "\n",
        "# Get the reverse of a direction for backtracking\n",
        "REVERSE_DIRECTION = {\n",
        "    \"N\": \"S\",\n",
        "    \"S\": \"N\",\n",
        "    \"E\": \"W\",\n",
        "    \"W\": \"E\",\n",
        "}\n"
      ],
      "metadata": {
        "id": "I5QFxRJa4XoA",
        "collapsed": true
      },
      "id": "I5QFxRJa4XoA",
      "execution_count": null,
      "outputs": []
    },
    {
      "cell_type": "markdown",
      "metadata": {
        "id": "d1236ee8"
      },
      "source": [
        "---\n",
        "\n",
        "## 🤖 Your Solver Code Here 🤖\n",
        "\n",
        "This is the section where you will implement your maze-solving logic within the `MySolver` class. Modify the `choose_move` method to navigate the robot from the start to the goal.\n",
        "\n",
        "---"
      ],
      "id": "d1236ee8"
    },
    {
      "cell_type": "code",
      "source": [
        "# You can import any additional modules here that you might need\n",
        "import random\n",
        "\n",
        "class MySolver(maze_challenge.Solver):\n",
        "    \"\"\"\n",
        "    🚀 Your Maze Solver\n",
        "\n",
        "    This is the main class you'll modify to solve the maze challenge.\n",
        "\n",
        "    Inherit from `Solver` and implement your maze-solving logic in the `choose_move` method.\n",
        "    The goal is to navigate from the starting point to the goal using only local information.\n",
        "\n",
        "    You are given:\n",
        "      - The current position (row, col) of the agent\n",
        "      - A dictionary of possible moves: Dict[str, Tuple[int, int]]\n",
        "        where the keys are directions (\"NORTH\", \"SOUTH\", \"EAST\", \"WEST\")\n",
        "        and the values are the coordinates of neighboring cells\n",
        "\n",
        "    You must:\n",
        "      - Return one of the available direction keys as a string on each call to `choose_move`\n",
        "\n",
        "    \"\"\"\n",
        "\n",
        "    def __init__(self, width: int, height: int):\n",
        "        \"\"\"\n",
        "        Initialize your solver. You can store any internal state here.\n",
        "\n",
        "        Args:\n",
        "            width (int): width of the maze\n",
        "            height (int): height of the maze\n",
        "        \"\"\"\n",
        "        super().__init__(width, height)\n",
        "\n",
        "        # You can add any variables your solver might need here\n",
        "        # Variables you define here can be accessed anywhere in the class\n",
        "\n",
        "        # For example, here's a list that can be used to store which grid cells\n",
        "        #    have been visited.\n",
        "        self.visited = []\n",
        "\n",
        "    def choose_move(\n",
        "        self,\n",
        "        position: Tuple[int, int],\n",
        "        cherry_position: Tuple[int, int],\n",
        "        possible_moves: Dict[str, Tuple[int, int]],\n",
        "    ) -> str:\n",
        "        \"\"\"\n",
        "        Decide the next move given the current position and available directions.\n",
        "\n",
        "        Args:\n",
        "            position (Tuple[int, int]): Your current (row, col) in the maze\n",
        "            possible_moves (Dict[str, Tuple[int, int]]): Valid directions and the\n",
        "                coordinates they would lead to, e.g. {\"N\": (3, 2), \"E\": (4, 3)}\n",
        "\n",
        "        Returns:\n",
        "            str: One of the keys in `possible_moves`, e.g. \"N\", \"S\", etc.\n",
        "        \"\"\"\n",
        "\n",
        "        # You can do anything with the variables you defined above here, and\n",
        "        #    they will save between calls of this function.\n",
        "\n",
        "        # For example, to add the current cell to the list of visited cells,\n",
        "        #    you can do the following.\n",
        "        self.visited.append(position)\n",
        "\n",
        "        # You need to return one of the possible moves, which is the one\n",
        "        #    that will be executed\n",
        "        # Here, we are choosing a random move to return\n",
        "        random_move = random.choice(list(possible_moves.keys()))\n",
        "\n",
        "        return random_move\n",
        "\n",
        "print(\"✅ Solver created. Test it down below!\")"
      ],
      "metadata": {
        "id": "-l45p7hxED1d"
      },
      "id": "-l45p7hxED1d",
      "execution_count": null,
      "outputs": []
    },
    {
      "cell_type": "markdown",
      "metadata": {
        "id": "0d0b3765"
      },
      "source": [
        "## Running the Solver and Visualizing Results\n",
        "\n",
        "The code cells below run your `MySolver` class against a maze and show the results.\n",
        "\n",
        "*   `maze_challenge.run_solver(MySolver, fast=False)`: This command runs your solver on a single maze.\n",
        "    *   The `fast=False` flag enables the animation of the robot moving through the maze, allowing you to visualize your solver's path.\n",
        "    *   If `fast=True` (or the flag is omitted), the animation is skipped, and you'll only see the final result and score.\n",
        "\n",
        "*   `maze_challenge.evaluate_solver(MySolver)`: This command runs your solver on a set of 5,000 randomly generated mazes and provides an average score, giving you a better idea of its performance across different scenarios."
      ],
      "id": "0d0b3765"
    },
    {
      "cell_type": "code",
      "source": [
        "maze_challenge.run_solver(MySolver, fast=False)"
      ],
      "metadata": {
        "id": "c-4OYeR4FUCw",
        "collapsed": true
      },
      "id": "c-4OYeR4FUCw",
      "execution_count": null,
      "outputs": []
    },
    {
      "cell_type": "code",
      "source": [
        "maze_challenge.run_solver(MySolver, fast=True)"
      ],
      "metadata": {
        "id": "2UWoP5_DF6oL",
        "collapsed": true
      },
      "id": "2UWoP5_DF6oL",
      "execution_count": null,
      "outputs": []
    },
    {
      "cell_type": "code",
      "source": [
        "maze_challenge.evaluate_solver(MySolver)"
      ],
      "metadata": {
        "id": "Wp7sPtpyPvs7"
      },
      "id": "Wp7sPtpyPvs7",
      "execution_count": null,
      "outputs": []
    }
  ],
  "metadata": {
    "language_info": {
      "name": "python"
    },
    "colab": {
      "provenance": []
    },
    "kernelspec": {
      "name": "python3",
      "display_name": "Python 3"
    }
  },
  "nbformat": 4,
  "nbformat_minor": 5
}